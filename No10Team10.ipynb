{
  "nbformat": 4,
  "nbformat_minor": 0,
  "metadata": {
    "colab": {
      "provenance": [],
      "collapsed_sections": [
        "YcplRt2FNEDe"
      ],
      "include_colab_link": true
    },
    "kernelspec": {
      "name": "python3",
      "display_name": "Python 3"
    },
    "language_info": {
      "name": "python"
    },
    "widgets": {
      "application/vnd.jupyter.widget-state+json": {
        "742ac34f95574c57ad0b8028c748eaea": {
          "model_module": "@jupyter-widgets/controls",
          "model_name": "ButtonModel",
          "model_module_version": "1.5.0",
          "state": {
            "_dom_classes": [],
            "_model_module": "@jupyter-widgets/controls",
            "_model_module_version": "1.5.0",
            "_model_name": "ButtonModel",
            "_view_count": null,
            "_view_module": "@jupyter-widgets/controls",
            "_view_module_version": "1.5.0",
            "_view_name": "ButtonView",
            "button_style": "",
            "description": "Run",
            "disabled": false,
            "icon": "",
            "layout": "IPY_MODEL_3df33a3b657642e58d801dece53849c1",
            "style": "IPY_MODEL_89a2b9d55ae14810859090fe65a9c148",
            "tooltip": ""
          }
        },
        "3df33a3b657642e58d801dece53849c1": {
          "model_module": "@jupyter-widgets/base",
          "model_name": "LayoutModel",
          "model_module_version": "1.2.0",
          "state": {
            "_model_module": "@jupyter-widgets/base",
            "_model_module_version": "1.2.0",
            "_model_name": "LayoutModel",
            "_view_count": null,
            "_view_module": "@jupyter-widgets/base",
            "_view_module_version": "1.2.0",
            "_view_name": "LayoutView",
            "align_content": null,
            "align_items": null,
            "align_self": null,
            "border": null,
            "bottom": null,
            "display": null,
            "flex": null,
            "flex_flow": null,
            "grid_area": null,
            "grid_auto_columns": null,
            "grid_auto_flow": null,
            "grid_auto_rows": null,
            "grid_column": null,
            "grid_gap": null,
            "grid_row": null,
            "grid_template_areas": null,
            "grid_template_columns": null,
            "grid_template_rows": null,
            "height": null,
            "justify_content": null,
            "justify_items": null,
            "left": null,
            "margin": null,
            "max_height": null,
            "max_width": null,
            "min_height": null,
            "min_width": null,
            "object_fit": null,
            "object_position": null,
            "order": null,
            "overflow": null,
            "overflow_x": null,
            "overflow_y": null,
            "padding": null,
            "right": null,
            "top": null,
            "visibility": null,
            "width": null
          }
        },
        "89a2b9d55ae14810859090fe65a9c148": {
          "model_module": "@jupyter-widgets/controls",
          "model_name": "ButtonStyleModel",
          "model_module_version": "1.5.0",
          "state": {
            "_model_module": "@jupyter-widgets/controls",
            "_model_module_version": "1.5.0",
            "_model_name": "ButtonStyleModel",
            "_view_count": null,
            "_view_module": "@jupyter-widgets/base",
            "_view_module_version": "1.2.0",
            "_view_name": "StyleView",
            "button_color": null,
            "font_weight": ""
          }
        },
        "2514d6bfde884d6cb84e0d61635063e0": {
          "model_module": "@jupyter-widgets/output",
          "model_name": "OutputModel",
          "model_module_version": "1.0.0",
          "state": {
            "_dom_classes": [],
            "_model_module": "@jupyter-widgets/output",
            "_model_module_version": "1.0.0",
            "_model_name": "OutputModel",
            "_view_count": null,
            "_view_module": "@jupyter-widgets/output",
            "_view_module_version": "1.0.0",
            "_view_name": "OutputView",
            "layout": "IPY_MODEL_c5b84a99415346acbe0a6ab26e829a8b",
            "msg_id": "",
            "outputs": [
              {
                "output_type": "stream",
                "name": "stdout",
                "text": [
                  "\u001b[1mBRIEF SUMMARY:\u001b[0m\n"
                ]
              },
              {
                "output_type": "stream",
                "name": "stdout",
                "text": [
                  "The Prime Minister should discuss various key points related to policing in North-East England, such as ensuring sufficient resources and funding for law enforcement agencies, addressing community policing and engagement to build trust among residents, tackling specific crime issues prevalent in the region, enhancing cooperation between different police forces, supporting the well-being and mental health of police officers, and implementing technology and data-driven strategies to improve efficiency and effectiveness of policing practices. Overall, the discussion should focus on initiatives to enhance public safety and security in the North-East region.\n",
                  "\u001b[1mRELEVANT NEWS:\u001b[0m\n"
                ]
              },
              {
                "output_type": "stream",
                "name": "stdout",
                "text": [
                  "Title: \u001b[1mEstimated declaration times for May 2 local, mayoral and police elections\u001b[0m\n",
                  "Sentiment: \u001b[94mNeutral\u001b[0m\n",
                  "Summary: The text lists the estimated declaration times for various elections happening in England, including local, mayoral, and police & crime commissioner elections. It aims to inform individuals interested in the election results about when they can expect the declarations to be made.\n",
                  "URL: https://www.thecourier.co.uk/politics/4947708/estimated-declaration-times-for-may-2-local-mayoral-and-police-elections\n",
                  "\n",
                  "\n",
                  "Title: \u001b[1mPlane crash at North Yorkshire airfield\u001b[0m\n",
                  "Sentiment: \u001b[91mNegative\u001b[0m\n",
                  "Summary: Emergency services responded to reports of a plane crash at Church Fenton airfield in North Yorkshire on April 11. The incident occurred tonight and is currently under investigation.\n",
                  "URL: https://www.yorkpress.co.uk/news/24248140.church-fenton-airfield-plane-crash-north-yorkshire\n",
                  "\n",
                  "\n",
                  "Title: \u001b[1mMan wanted for fatal assault in coastal village spotted in North East shop\u001b[0m\n",
                  "Sentiment: \u001b[94mNeutral\u001b[0m\n",
                  "Summary: Police in North Yorkshire have shared new photos of a man from the area who is being sought in connection with a deadly attack in Staithes. Authorities are requesting the public's assistance in locating the individual, and are urging anyone with information to come forward.\n",
                  "URL: https://www.thenorthernecho.co.uk/news/24244513.scarborough-man-wanted-fatal-assault-spotted-newcastle\n",
                  "\n",
                  "\n",
                  "Title: \u001b[1mSix streets hit hardest by anti-social behaviour in city\u001b[0m\n",
                  "Sentiment: \u001b[91mNegative\u001b[0m\n",
                  "Summary: A recent report has identified the six streets in Sheffield with the highest number of reported cases of anti-social behavior. This information will help authorities prioritize resources and implement strategies to address the issue in these areas.\n",
                  "URL: https://www.thestar.co.uk/news/crime/sheffield-crime-2024-the-six-streets-hit-hardest-by-reported-anti-social-behaviour-in-city-4585602\n",
                  "\n",
                  "\n",
                  "Title: \u001b[1mHairy Biker Si King thanks motorcyclists for tribute to late Dave Myers\u001b[0m\n",
                  "Sentiment: \u001b[94mNeutral\u001b[0m\n",
                  "Summary: The TV chef expressed gratitude to participants of a memorial motorcycle ride held to honor his late best friend, Dave Myers. The event was a tribute to their friendship and commemorated the memory of Myers in a meaningful way.\n",
                  "URL: https://www.chroniclelive.co.uk/news/showbiz-news/hairy-biker-si-king-thanks-28952389\n",
                  "\n",
                  "\n",
                  "Title: \u001b[1mEverything you need to know about local elections in Yorkshire and Lincolnshire\u001b[0m\n",
                  "Sentiment: \u001b[94mNeutral\u001b[0m\n",
                  "Summary: Local elections, including mayoral, local council, and Police, Fire and Crime Commissioner elections, are scheduled in the Calendar region on 2 May. The elections will play a vital role in shaping the future leadership and governance of the region.\n",
                  "URL: https://www.itv.com/news/calendar/2024-04-16/all-you-need-to-know-about-local-elections-in-yorkshire-and-lincolnshire\n",
                  "\n",
                  "\n",
                  "\u001b[1mPOLLING INFO:\u001b[0m\n",
                  "Q3_1. Having a visible presence in your area : To what extent do you think that, generally, the police in the UK do a good or bad job at each of the following?\n",
                  "Categories: 18-24, North-East\n",
                  "Very good job: \u001b[92m0.17\u001b[0m, 0.07\n",
                  "Fairly good job: \u001b[92m0.34\u001b[0m, 0.29\n",
                  "Fairly bad job: \u001b[91m0.26\u001b[0m, \u001b[91m0.27\u001b[0m\n",
                  "Very bad job: \u001b[91m0.16\u001b[0m, 0.32\n",
                  "\n",
                  "\n",
                  "Q3_2. Acting as a deterrent for criminal activity : To what extent do you think that, generally, the police in the UK do a good or bad job at each of the following?\n",
                  "Categories: 18-24, North-East\n",
                  "Very good job: \u001b[92m0.18\u001b[0m, 0.08\n",
                  "Fairly good job: 0.32, 0.3\n",
                  "Fairly bad job: \u001b[91m0.27\u001b[0m, 0.31\n",
                  "Very bad job: 0.14, 0.18\n",
                  "\n",
                  "\n",
                  "Q3_3. Policing peaceful protests in the UK : To what extent do you think that, generally, the police in the UK do a good or bad job at each of the following?\n",
                  "Categories: 18-24, North-East\n",
                  "Very good job: \u001b[92m0.19\u001b[0m, 0.1\n",
                  "Fairly good job: \u001b[91m0.35\u001b[0m, 0.37\n",
                  "Fairly bad job: \u001b[92m0.28\u001b[0m, 0.27\n",
                  "Very bad job: \u001b[91m0.09\u001b[0m, 0.15\n",
                  "\n",
                  "\n",
                  "\u001b[1mGENERAL QUESTIONS:\u001b[0m\n"
                ]
              },
              {
                "output_type": "stream",
                "name": "stdout",
                "text": [
                  "1. How does the government plan to address the disproportionately high levels of police stops and searches of individuals from minority ethnic backgrounds in North-East England, and ensure fair and unbiased policing practices?\n",
                  "\n",
                  "2. What measures is the government taking to improve the relationship between the police force and the local communities in North-East England, particularly in areas where there may be high levels of mistrust and tension?\n",
                  "\n",
                  "3. How will the government address the challenges faced by police forces in North-East England in terms of recruitment and retention of officers, especially in light of budget constraints and increasing demands on the force?\n",
                  "\n",
                  "4. What steps is the government taking to tackle the root causes of crime and violence in North-East England, such as poverty, inequality, and lack of access to services, in addition to law enforcement measures?\n",
                  "\n",
                  "5. How does the government plan to ensure effective cooperation and coordination between different agencies involved in policing and crime prevention in North-East England, including local authorities, community organizations, and the justice system?\n",
                  "\u001b[1mQUESTIONS FROM HEADLINES:\u001b[0m\n"
                ]
              },
              {
                "output_type": "stream",
                "name": "stdout",
                "text": [
                  "1. Question: Prime Minister, in light of the recent reports highlighting the six streets most affected by anti-social behaviour in our city, what specific measures is the government undertaking to address this issue and ensure the safety and security of residents living in those communities?\n",
                  "2. Prime Minister, considering the alarming rate of violent crime in our communities, what steps is the government taking to improve collaboration between law enforcement agencies to ensure swift apprehension and prosecution of individuals involved in violent offenses like fatal assaults?\n"
                ]
              }
            ]
          }
        },
        "c5b84a99415346acbe0a6ab26e829a8b": {
          "model_module": "@jupyter-widgets/base",
          "model_name": "LayoutModel",
          "model_module_version": "1.2.0",
          "state": {
            "_model_module": "@jupyter-widgets/base",
            "_model_module_version": "1.2.0",
            "_model_name": "LayoutModel",
            "_view_count": null,
            "_view_module": "@jupyter-widgets/base",
            "_view_module_version": "1.2.0",
            "_view_name": "LayoutView",
            "align_content": null,
            "align_items": null,
            "align_self": null,
            "border": null,
            "bottom": null,
            "display": null,
            "flex": null,
            "flex_flow": null,
            "grid_area": null,
            "grid_auto_columns": null,
            "grid_auto_flow": null,
            "grid_auto_rows": null,
            "grid_column": null,
            "grid_gap": null,
            "grid_row": null,
            "grid_template_areas": null,
            "grid_template_columns": null,
            "grid_template_rows": null,
            "height": null,
            "justify_content": null,
            "justify_items": null,
            "left": null,
            "margin": null,
            "max_height": null,
            "max_width": null,
            "min_height": null,
            "min_width": null,
            "object_fit": null,
            "object_position": null,
            "order": null,
            "overflow": null,
            "overflow_x": null,
            "overflow_y": null,
            "padding": null,
            "right": null,
            "top": null,
            "visibility": null,
            "width": null
          }
        }
      }
    }
  },
  "cells": [
    {
      "cell_type": "markdown",
      "metadata": {
        "id": "view-in-github",
        "colab_type": "text"
      },
      "source": [
        "<a href=\"https://colab.research.google.com/github/mariamstoica/no10hackathon/blob/main/No10Team10.ipynb\" target=\"_parent\"><img src=\"https://colab.research.google.com/assets/colab-badge.svg\" alt=\"Open In Colab\"/></a>"
      ]
    },
    {
      "cell_type": "code",
      "execution_count": 3,
      "metadata": {
        "id": "iaC8AQZHM4nO",
        "colab": {
          "base_uri": "https://localhost:8080/"
        },
        "outputId": "1b06846e-1379-46d6-fc11-7d85335b4642"
      },
      "outputs": [
        {
          "output_type": "stream",
          "name": "stdout",
          "text": [
            "\u001b[?25l     \u001b[90m━━━━━━━━━━━━━━━━━━━━━━━━━━━━━━━━━━━━━━━━\u001b[0m \u001b[32m0.0/292.8 kB\u001b[0m \u001b[31m?\u001b[0m eta \u001b[36m-:--:--\u001b[0m\r\u001b[2K     \u001b[91m━━━━━━━━━━━━━━━\u001b[0m\u001b[90m╺\u001b[0m\u001b[90m━━━━━━━━━━━━━━━━━━━━━━━━\u001b[0m \u001b[32m112.6/292.8 kB\u001b[0m \u001b[31m3.2 MB/s\u001b[0m eta \u001b[36m0:00:01\u001b[0m\r\u001b[2K     \u001b[90m━━━━━━━━━━━━━━━━━━━━━━━━━━━━━━━━━━━━━━━━\u001b[0m \u001b[32m292.8/292.8 kB\u001b[0m \u001b[31m4.6 MB/s\u001b[0m eta \u001b[36m0:00:00\u001b[0m\n",
            "\u001b[2K     \u001b[90m━━━━━━━━━━━━━━━━━━━━━━━━━━━━━━━━━━━━━━━━\u001b[0m \u001b[32m75.6/75.6 kB\u001b[0m \u001b[31m8.7 MB/s\u001b[0m eta \u001b[36m0:00:00\u001b[0m\n",
            "\u001b[2K     \u001b[90m━━━━━━━━━━━━━━━━━━━━━━━━━━━━━━━━━━━━━━━━\u001b[0m \u001b[32m77.9/77.9 kB\u001b[0m \u001b[31m9.9 MB/s\u001b[0m eta \u001b[36m0:00:00\u001b[0m\n",
            "\u001b[2K     \u001b[90m━━━━━━━━━━━━━━━━━━━━━━━━━━━━━━━━━━━━━━━━\u001b[0m \u001b[32m58.3/58.3 kB\u001b[0m \u001b[31m6.8 MB/s\u001b[0m eta \u001b[36m0:00:00\u001b[0m\n",
            "\u001b[?25h"
          ]
        }
      ],
      "source": [
        "# put all import statements here!\n",
        "import os\n",
        "import numpy as np\n",
        "import requests\n",
        "from pprint import pprint\n",
        "import ipywidgets as widgets\n",
        "from IPython.display import display\n",
        "\n",
        "from google.colab import userdata\n",
        "!pip install newscatcherapi-python-sdk==6.0.2 --quiet\n",
        "!pip install openai --quiet\n",
        "from newscatcherapi_client import Newscatcher, ApiException\n",
        "from polling import get_relevant_polling\n",
        "from summary import get_summary\n",
        "\n",
        "from openai import OpenAI\n",
        "import warnings"
      ]
    },
    {
      "cell_type": "code",
      "source": [
        "# API infos\n",
        "openai_key = userdata.get('OPENAI_API_KEY')\n",
        "newscatcher_key = userdata.get('NEWSCATCHER_API_KEY')\n",
        "anthropic_key = userdata.get('ANTHROPIC_API_KEY')"
      ],
      "metadata": {
        "id": "v_gDPczDQUZ8"
      },
      "execution_count": 4,
      "outputs": []
    },
    {
      "cell_type": "markdown",
      "source": [
        "\n",
        "\n",
        "# Polling Data"
      ],
      "metadata": {
        "id": "WO2FUP0BNDl2"
      }
    },
    {
      "cell_type": "code",
      "source": [
        "def get_polling(demographic, region, keword):\n",
        "  polls = get_relevant_polling(demographic, region, keyword.lower())\n",
        "  for question in polls:\n",
        "    print(question)\n",
        "    print('Categories: {}, {}'.format(demographic, region))\n",
        "    for cat in polls[question][demographic]:\n",
        "        print(cat + ': ' + str(polls[question][demographic][cat]) + ', ' + str(polls[question][region][cat]))\n",
        "    print('\\n')"
      ],
      "metadata": {
        "id": "8i5jscuyJRNI"
      },
      "execution_count": 5,
      "outputs": []
    },
    {
      "cell_type": "code",
      "source": [],
      "metadata": {
        "id": "QW7c8sesJZKi"
      },
      "execution_count": 5,
      "outputs": []
    },
    {
      "cell_type": "markdown",
      "source": [
        "## Summary"
      ],
      "metadata": {
        "id": "SoPAcUH_Jf6m"
      }
    },
    {
      "cell_type": "code",
      "source": [
        "def get_overall_summary(keyword, region):\n",
        "  summary = get_summary(keyword, region)\n",
        "  print(summary)\n",
        "\n",
        "def get_questions_all(keyword, region):\n",
        "  questions = get_questions(keyword, region)\n",
        "  print(questions)"
      ],
      "metadata": {
        "id": "BpoXmPvqlCeZ"
      },
      "execution_count": 6,
      "outputs": []
    },
    {
      "cell_type": "code",
      "source": [],
      "metadata": {
        "id": "ypLGJMWyJoQX"
      },
      "execution_count": 6,
      "outputs": []
    },
    {
      "cell_type": "markdown",
      "source": [
        "## Get Questions"
      ],
      "metadata": {
        "id": "veVpOQ9vKAm8"
      }
    },
    {
      "cell_type": "code",
      "source": [
        "# from questions import get_questions"
      ],
      "metadata": {
        "id": "_EY4VTSMKEHK"
      },
      "execution_count": 7,
      "outputs": []
    },
    {
      "cell_type": "code",
      "source": [
        "# questions = get_questions(keyword, region)"
      ],
      "metadata": {
        "id": "Lz63hrXpKGTw",
        "colab": {
          "base_uri": "https://localhost:8080/",
          "height": 139
        },
        "outputId": "3e6c373e-5448-42d0-8293-e14a681a5a08"
      },
      "execution_count": 8,
      "outputs": [
        {
          "output_type": "error",
          "ename": "NameError",
          "evalue": "name 'keyword' is not defined",
          "traceback": [
            "\u001b[0;31m---------------------------------------------------------------------------\u001b[0m",
            "\u001b[0;31mNameError\u001b[0m                                 Traceback (most recent call last)",
            "\u001b[0;32m<ipython-input-8-e5878b1f8bf3>\u001b[0m in \u001b[0;36m<cell line: 1>\u001b[0;34m()\u001b[0m\n\u001b[0;32m----> 1\u001b[0;31m \u001b[0mquestions\u001b[0m \u001b[0;34m=\u001b[0m \u001b[0mget_questions\u001b[0m\u001b[0;34m(\u001b[0m\u001b[0mkeyword\u001b[0m\u001b[0;34m,\u001b[0m \u001b[0mregion\u001b[0m\u001b[0;34m)\u001b[0m\u001b[0;34m\u001b[0m\u001b[0;34m\u001b[0m\u001b[0m\n\u001b[0m",
            "\u001b[0;31mNameError\u001b[0m: name 'keyword' is not defined"
          ]
        }
      ]
    },
    {
      "cell_type": "code",
      "source": [
        "# print(questions)"
      ],
      "metadata": {
        "id": "dVTFwMrHKQCs"
      },
      "execution_count": null,
      "outputs": []
    },
    {
      "cell_type": "code",
      "source": [
        "# !pip install openai"
      ],
      "metadata": {
        "id": "u_nY_lzAMbQI"
      },
      "execution_count": null,
      "outputs": []
    },
    {
      "cell_type": "code",
      "source": [
        "# generate mp3 of a question\n",
        "\n",
        "\n",
        "\n",
        "warnings.filterwarnings('ignore', category=DeprecationWarning)\n",
        "\n",
        "client = OpenAI(api_key=openai_key)\n",
        "\n",
        "speech_file_path = \"speech.mp3\"\n",
        "response = client.audio.speech.create(\n",
        "  model=\"tts-1\",\n",
        "  voice=\"fable\",\n",
        "  input=questions.split('\\n')[0][2:]\n",
        ")\n",
        "\n",
        "response.stream_to_file(speech_file_path)"
      ],
      "metadata": {
        "id": "GzoRK6osL8Zv"
      },
      "execution_count": null,
      "outputs": []
    },
    {
      "cell_type": "markdown",
      "source": [],
      "metadata": {
        "id": "452WUOKmOOZo"
      }
    },
    {
      "cell_type": "markdown",
      "source": [
        "# Focus Group Data\n"
      ],
      "metadata": {
        "id": "YcplRt2FNEDe"
      }
    },
    {
      "cell_type": "code",
      "source": [],
      "metadata": {
        "id": "yErfr38DPyPu"
      },
      "execution_count": null,
      "outputs": []
    },
    {
      "cell_type": "markdown",
      "source": [
        "# News Articles\n"
      ],
      "metadata": {
        "id": "6ShJ7f45NETp"
      }
    },
    {
      "cell_type": "code",
      "source": [
        "class color:\n",
        "   PURPLE = '\\033[95m'\n",
        "   CYAN = '\\033[96m'\n",
        "   DARKCYAN = '\\033[36m'\n",
        "   BLUE = '\\033[94m'\n",
        "   GREEN = '\\033[92m'\n",
        "   YELLOW = '\\033[93m'\n",
        "   RED = '\\033[91m'\n",
        "   BOLD = '\\033[1m'\n",
        "   UNDERLINE = '\\033[4m'\n",
        "   END = '\\033[0m'\n",
        "\n",
        "def get_article_summary(article_description):\n",
        "  url = \"https://api.openai.com/v1/chat/completions\"\n",
        "  text = 'Provide a two sentence summary of the following text: ' + article_description\n",
        "  headers = {\n",
        "        \"Content-Type\": \"application/json\",\n",
        "        \"Authorization\": f\"Bearer {openai_key}\"\n",
        "    }\n",
        "  data = {\n",
        "        \"model\": \"gpt-3.5-turbo\",\n",
        "        \"messages\": [\n",
        "            {\n",
        "                \"role\": \"system\",\n",
        "                \"content\": \"You are a helpful assistant.\"\n",
        "            },\n",
        "            {\n",
        "                \"role\": \"user\",\n",
        "                \"content\": text\n",
        "            }\n",
        "        ]\n",
        "    }\n",
        "  response = requests.post(url, headers=headers, json=data)\n",
        "  return response.json()['choices'][0]['message']['content']\n",
        "\n",
        "def get_article_sentiment(article_description):\n",
        "  url = \"https://api.openai.com/v1/chat/completions\"\n",
        "  headers = {\n",
        "        \"Content-Type\": \"application/json\",\n",
        "        \"Authorization\": f\"Bearer {openai_key}\"}\n",
        "  data = {\n",
        "        \"model\": \"gpt-3.5-turbo\",\n",
        "        \"messages\": [\n",
        "            {\n",
        "                \"role\": \"system\",\n",
        "                \"content\": \"You will be provided with a text, and your task is to classify its sentiment as positive, neutral, or negative.\"\n",
        "            },\n",
        "            {\n",
        "                \"role\": \"user\",\n",
        "                \"content\": article_description\n",
        "            }\n",
        "        ]\n",
        "    }\n",
        "  response = requests.post(url, headers=headers, json=data)\n",
        "  sentiment = response.json()['choices'][0]['message']['content']\n",
        "\n",
        "  if 'positive' in sentiment.lower():\n",
        "      sentiment = 'Positive'\n",
        "  elif 'negative' in sentiment.lower():\n",
        "      sentiment = 'Negative'\n",
        "  elif 'neutral' in sentiment.lower():\n",
        "      sentiment = 'Neutral'\n",
        "  else:\n",
        "      sentiment = 'None'\n",
        "\n",
        "  return sentiment"
      ],
      "metadata": {
        "id": "aCfONdY8XB_B"
      },
      "execution_count": 9,
      "outputs": []
    },
    {
      "cell_type": "code",
      "source": [
        "\n",
        "\n",
        "def get_newscatcher_outputs(keyword, region):\n",
        "  url = 'https://v3-api.newscatcherapi.com/api/search?'\n",
        "  if region == 'North-East':\n",
        "    all_regions = ['North-East', 'Yorkshire', 'Lincolnshire', 'Newcastle']\n",
        "  else:\n",
        "    all_regions = [region]\n",
        "\n",
        "  def create_or_list(word_list):\n",
        "    return_str = word_list[0]\n",
        "    if len(word_list) > 1:\n",
        "      for word in word_list[1:]:\n",
        "        return_str += ' OR ' + word\n",
        "      return return_str\n",
        "\n",
        "  query = keyword + ' (' + create_or_list(all_regions) + ')'\n",
        "  # print(\"%s: %s\" % (k, v))\n",
        "  params = {'q': query, 'lang' : ['en'], 'countries' : [\"GB\"], 'from_' : '10 days ago',\n",
        "            # Tuesday April 16th 4pm\n",
        "            'sort_by': 'relevancy',\n",
        "            'clustering_enabled': True, 'clustering_threshold': 0.7,\n",
        "            'clustering_variable': 'content'}\n",
        "  headers = {'x-api-token': newscatcher_key}\n",
        "  response = requests.get(url, params=params, headers=headers)\n",
        "  json_data = response.json() if response and response.status_code == 200 else None\n",
        "\n",
        "  outputs = []\n",
        "  if json_data is not None:\n",
        "    clusters = json_data['clusters'][0:6]\n",
        "\n",
        "    for cluster in clusters:\n",
        "      cluster_dict = dict()\n",
        "      first_article = cluster['articles'][0]\n",
        "      article_description = first_article['description']\n",
        "      summary = get_article_summary(article_description)\n",
        "      sentiment = get_article_sentiment(article_description)\n",
        "      title = first_article['title']\n",
        "      cluster_dict['title'] = color.BOLD + title + color.END\n",
        "      cluster_dict['summary'] = summary\n",
        "      if sentiment == 'Positive':\n",
        "        cluster_dict['sentiment'] = color.GREEN + sentiment + color.END\n",
        "      elif sentiment == 'Negative':\n",
        "        cluster_dict['sentiment'] = color.RED + sentiment + color.END\n",
        "      else:\n",
        "        cluster_dict['sentiment'] = color.BLUE + sentiment + color.END\n",
        "      cluster_dict['url'] = first_article['link']\n",
        "      outputs.append(cluster_dict)\n",
        "      # print(\"%s: %s \\n %s\" % (sentiment, title, summary))\n",
        "      # pprint([sentiment, title, summary])\n",
        "\n",
        "  for output in outputs:\n",
        "    print('Title: ' + output['title'])\n",
        "    print('Sentiment: ' + output['sentiment'])\n",
        "    print('Summary: ' + output['summary'])\n",
        "    print('URL: ' + output['url'])\n",
        "    print('\\n')"
      ],
      "metadata": {
        "id": "cZVDXcLiPztc"
      },
      "execution_count": 10,
      "outputs": []
    },
    {
      "cell_type": "code",
      "source": [
        "from question_from_headline import create_question_from_headline\n",
        "\n",
        "def get_q_from_headline():\n",
        "  headlines = [\n",
        "      'Six streets hit hardest by anti-social behaviour in city',\n",
        "      'Man wanted for fatal assault in coastal village spotted in North East shop'\n",
        "  ]\n",
        "\n",
        "  questioner_type = 'journalist'\n",
        "\n",
        "  questions_list = []\n",
        "  for headline in headlines:\n",
        "    q = create_question_from_headline(headline, questioner_type, openai_key)\n",
        "    questions_list.append(q)\n",
        "\n",
        "  for i, item in enumerate(questions_list):\n",
        "    print(f\"{i+1}. {item}\")\n"
      ],
      "metadata": {
        "id": "bAWPg5i7iIVG"
      },
      "execution_count": 11,
      "outputs": []
    },
    {
      "cell_type": "markdown",
      "source": [
        "# Keyword Relate\n"
      ],
      "metadata": {
        "id": "JHq0HV9i8Ct0"
      }
    },
    {
      "cell_type": "code",
      "source": [
        "def relate_keyword(keyword_input):\n",
        "  url = \"https://api.openai.com/v1/chat/completions\"\n",
        "  text = 'provide 10 thematically related words to the following text:' + keyword_input\n",
        "  headers = {\n",
        "        \"Content-Type\": \"application/json\",\n",
        "        \"Authorization\": f\"Bearer {openai_key}\"\n",
        "    }\n",
        "  data = {\n",
        "        \"model\": \"gpt-3.5-turbo\",\n",
        "        \"messages\": [\n",
        "            {\n",
        "                \"role\": \"system\",\n",
        "                \"content\": \"You are a helpful assistant.\"\n",
        "            },\n",
        "            {\n",
        "                \"role\": \"user\",\n",
        "                \"content\": text\n",
        "            }\n",
        "        ]\n",
        "    }\n",
        "  response = requests.post(url, headers=headers, json=data)\n",
        "  return response.json()['choices'][0]['message']['content']\n",
        "\n",
        "\n",
        "text = relate_keyword('police')\n",
        "print(text)\n",
        "\n"
      ],
      "metadata": {
        "id": "hYQ6M4lT8HGH",
        "colab": {
          "base_uri": "https://localhost:8080/"
        },
        "outputId": "3909f91f-5eb3-4444-c129-3cdbcd69b7d0"
      },
      "execution_count": 12,
      "outputs": [
        {
          "output_type": "stream",
          "name": "stdout",
          "text": [
            "1. Law enforcement  \n",
            "2. Officer  \n",
            "3. Crime  \n",
            "4. Patrol  \n",
            "5. Uniform  \n",
            "6. Investigation  \n",
            "7. Security  \n",
            "8. Arrest  \n",
            "9. Badge  \n",
            "10. Force\n"
          ]
        }
      ]
    },
    {
      "cell_type": "code",
      "source": [
        "# the inputs\n",
        "button = widgets.Button(description=\"Run\")\n",
        "output = widgets.Output()\n",
        "\n",
        "keyword = 'Policing' # @param {type:\"string\"}\n",
        "demographic = '18-24' # @param [\"18-24\", '25-34', '35-44', '45-54',\t'55-64', '65+']\n",
        "region = 'North-East' # @param {type:\"string\"}\n",
        "# date_input = '2024-04-01' # @param {type:\"date\"}\n",
        "\n",
        "def run_all(b):\n",
        "  with output:\n",
        "    print(color.BOLD +  \"BRIEF SUMMARY:\" + color.END)\n",
        "    get_overall_summary(keyword, region)\n",
        "    print(color.BOLD +  \"RELEVANT NEWS:\" + color.END)\n",
        "    get_newscatcher_outputs(keyword, region)\n",
        "    print(color.BOLD +  \"POLLING INFO:\" + color.END)\n",
        "    get_polling(demographic, region, keyword)\n",
        "    print(color.BOLD +  \"GENERAL QUESTIONS:\" + color.END)\n",
        "    get_questions_all(keyword, region)\n",
        "    print(color.BOLD +  \"QUESTIONS FROM HEADLINES:\" + color.END)\n",
        "    get_q_from_headline()\n",
        "\n",
        "button.on_click(run_all)\n",
        "display(button, output)"
      ],
      "metadata": {
        "id": "SvM0HIGdNXFT",
        "cellView": "form",
        "colab": {
          "base_uri": "https://localhost:8080/",
          "height": 1000,
          "referenced_widgets": [
            "742ac34f95574c57ad0b8028c748eaea",
            "3df33a3b657642e58d801dece53849c1",
            "89a2b9d55ae14810859090fe65a9c148",
            "2514d6bfde884d6cb84e0d61635063e0",
            "c5b84a99415346acbe0a6ab26e829a8b"
          ]
        },
        "outputId": "cb349d7a-1f98-41d5-f4f1-4022fb0e42aa"
      },
      "execution_count": 18,
      "outputs": [
        {
          "output_type": "display_data",
          "data": {
            "text/plain": [
              "Button(description='Run', style=ButtonStyle())"
            ],
            "application/vnd.jupyter.widget-view+json": {
              "version_major": 2,
              "version_minor": 0,
              "model_id": "742ac34f95574c57ad0b8028c748eaea"
            }
          },
          "metadata": {}
        },
        {
          "output_type": "display_data",
          "data": {
            "text/plain": [
              "Output()"
            ],
            "application/vnd.jupyter.widget-view+json": {
              "version_major": 2,
              "version_minor": 0,
              "model_id": "2514d6bfde884d6cb84e0d61635063e0"
            }
          },
          "metadata": {}
        }
      ]
    }
  ]
}